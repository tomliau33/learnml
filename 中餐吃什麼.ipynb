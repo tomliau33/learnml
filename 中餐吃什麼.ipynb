{
  "nbformat": 4,
  "nbformat_minor": 0,
  "metadata": {
    "colab": {
      "name": "中餐吃什麼.ipynb",
      "version": "0.3.2",
      "views": {},
      "default_view": {},
      "provenance": []
    },
    "kernelspec": {
      "name": "python3",
      "display_name": "Python 3"
    }
  },
  "cells": [
    {
      "metadata": {
        "id": "8055dfL-Rut5",
        "colab_type": "text"
      },
      "cell_type": "markdown",
      "source": [
        "這是一個用來推薦中餐要吃哪間餐廳的模型, 使用的資料包含用餐者有哪些人, 前六天的用餐紀錄, 天氣等資料.\n",
        "\n",
        "config 裡面定義用餐人選與可能用餐的餐廳, 若 data 裡面的人名與餐廳不在 config 設定的名單裡面會丟出 exception\n",
        "\n",
        "# Configure"
      ]
    },
    {
      "metadata": {
        "id": "XchdqcwP9R5A",
        "colab_type": "code",
        "colab": {
          "autoexec": {
            "startup": false,
            "wait_interval": 0
          }
        }
      },
      "cell_type": "code",
      "source": [
        "import numpy as np\n",
        "import pandas as pd\n",
        "\n",
        "g_config = {\n",
        "    \"members\": [\n",
        "        'Jack',\n",
        "        'Kelly',\n",
        "        'Mark',\n",
        "        'Jason',\n",
        "        'Alin',\n",
        "        'Tom',\n",
        "        'Tony',\n",
        "        'Sophie'\n",
        "    ],\n",
        "    'restaurants': [\n",
        "        'Tokyo Susi',\n",
        "        'Haka Restaurant',\n",
        "        'Beef noodle',\n",
        "        'Pizza',\n",
        "        'Li Chinese Food',\n",
        "        'Holy Coffee'\n",
        "    ]\n",
        "}\n",
        "\n",
        "# weather: 1晴天, 2很熱, 3很冷, 4快下雨, 5雨天\n",
        "g_real_data = [\n",
        "    [['Jack', 'Alin', 'Tom', 'Tony', 'Sophie'], 'Pizza', 1],\n",
        "    [['Jack', 'Kelly', 'Mark', 'Alin', 'Tom', 'Tony', 'Sophie'], 'Beef noodle', 1]\n",
        "]\n",
        "\n",
        "g_training_data = [\n",
        "    [['Jack', 'Alin', 'Tom', 'Tony', 'Sophie'], 'Pizza', 1],\n",
        "    [['Alin', 'Tom', 'Kelly'], 'Haka Restaurant', 1],\n",
        "    [['Jack', 'Jason', 'Tom', 'Tony', 'Sophie'], 'Tokyo Susi', 1],\n",
        "    [['Kelly', 'Tony', 'Tom', 'Kelly'], 'Pizza', 1],\n",
        "\n",
        "    [['Jack', 'Kelly', 'Mark', 'Alin', 'Tom', 'Tony'], 'Beef noodle', 1],\n",
        "    [['Jack', 'Kelly', 'Jason', 'Alin', 'Tom', 'Tony', 'Sophie'], 'Beef noodle', 1],\n",
        "\n",
        "    [['Kelly', 'Tom'], 'Li Chinese Food', 1],\n",
        "    [['Tom', 'Tony'], 'Li Chinese Food', 2],\n",
        "    [['Kelly', 'Tom'], 'Li Chinese Food', 1],\n",
        "    [['Tony', 'Jack'], 'Li Chinese Food', 4],\n",
        "    [['Kelly', 'Tom'], 'Li Chinese Food', 1],\n",
        "\n",
        "    [['Kelly', 'Mark', 'Alin', 'Tom', 'Tony'], 'Holy Coffee', 3],\n",
        "    [['Jack', 'Alin', 'Tom', 'Tony', 'Sophie'], 'Holy Coffee', 3],\n",
        "    [['Alin', 'Tom', 'Tony', 'Sophie'], 'Holy Coffee', 3],\n",
        "    [['Jack', 'Alin', 'Tom', 'Tony', 'Sophie'], 'Holy Coffee', 3],\n",
        "    [['Alin', 'Tom', 'Tony', 'Sophie'], 'Holy Coffee', 3],\n",
        "    [['Jack', 'Mark', 'Alin', 'Tom', 'Tony'], 'Holy Coffee', 3]\n",
        "]\n",
        "\n",
        "g_testing_data = [\n",
        "    [['Jack', 'Alin', 'Tony', 'Sophie'], 'Pizza', 1],\n",
        "    [['Kelly', 'Tom'], 'Li Chinese Food', 4],\n",
        "    [['Kelly', 'Jack', 'Tom'], 'Li Chinese Food', 1],\n",
        "    [['Jack', 'Alin', 'Tom', 'Sophie'], 'Pizza', 2],\n",
        "    [['Kelly', 'Mark', 'Alin', 'Tom', 'Tony', 'Jack'], 'Beef noodle', 1],\n",
        "    [['Kelly', 'Mark', 'Alin', 'Tom', 'Tony', 'Jack', 'Jason'], 'Beef noodle', 1],\n",
        "    [['Kelly', 'Alin', 'Tom', 'Tony', 'Jason'], 'Holy Coffee', 3],\n",
        "    [['Mark', 'Alin', 'Tom', 'Tony'], 'Haka Restaurant', 1]\n",
        "]\n"
      ],
      "execution_count": 0,
      "outputs": []
    },
    {
      "metadata": {
        "id": "iJDZ7CN8VnI1",
        "colab_type": "text"
      },
      "cell_type": "markdown",
      "source": [
        "# ETL\n",
        "\n"
      ]
    },
    {
      "metadata": {
        "id": "-NDXOzEPCCcT",
        "colab_type": "code",
        "colab": {
          "autoexec": {
            "startup": false,
            "wait_interval": 0
          },
          "output_extras": [
            {
              "item_id": 1
            }
          ],
          "base_uri": "https://localhost:8080/",
          "height": 51
        },
        "outputId": "18f530e7-1c0b-4393-8255-b13c4c3668d8",
        "executionInfo": {
          "status": "ok",
          "timestamp": 1520097302675,
          "user_tz": -480,
          "elapsed": 670,
          "user": {
            "displayName": "廖啟邑",
            "photoUrl": "//lh5.googleusercontent.com/-KFVsx7OFkhg/AAAAAAAAAAI/AAAAAAAAKMg/FNj3Mu2QghA/s50-c-k-no/photo.jpg",
            "userId": "113294509540096619859"
          }
        }
      },
      "cell_type": "code",
      "source": [
        "from collections import deque\n",
        "from sklearn.preprocessing import label_binarize\n",
        "from sklearn import preprocessing\n",
        "\n",
        "g_members = []\n",
        "g_restaurants = []\n",
        "g_le_of_restaurants = preprocessing.LabelEncoder()\n",
        "\n",
        "def initialize(data):\n",
        "  members = set()\n",
        "  restaurants = set()\n",
        "  \n",
        "  for record in data:\n",
        "    if record[1] not in g_config['restaurants']:\n",
        "      raise Exception('Unknown restaurant %s' % (record[1]))\n",
        "    \n",
        "    restaurants.add(record[1])\n",
        "\n",
        "    for member in record[0]:\n",
        "      if member not in g_config['members']:\n",
        "        raise Exception('Unknown member %s' % (member))\n",
        "\n",
        "      members.add(member)\n",
        "\n",
        "  global g_members\n",
        "  global g_restaurants\n",
        "  g_members = list(members)\n",
        "  g_restaurants = list(restaurants)\n",
        "\n",
        "  global g_le_of_restaurants\n",
        "  g_le_of_restaurants.fit(g_restaurants)\n",
        "  \n",
        "\n",
        "def rest_to_index(rest):\n",
        "  return g_le_of_restaurants.transform([rest])[0]\n",
        "\n",
        "def index_to_rest(idx):\n",
        "  return g_le_of_restaurants.inverse_transform([idx])[0]\n",
        "\n",
        "def generate_member_features(members):\n",
        "  r = label_binarize(members, classes=g_members)\n",
        "  return pd.DataFrame([np.max(r, axis=0)], columns=g_members)\n",
        "\n",
        "def generate_restaurant_features(history):\n",
        "  all = []\n",
        "  idx = 0\n",
        "  for rest in history:\n",
        "    x = label_binarize([rest], classes=g_restaurants)\n",
        "\n",
        "    # generate column name\n",
        "    idx += 1\n",
        "    cols = []\n",
        "    for c in g_restaurants:\n",
        "      cols.append('%s_%d' % (c, idx))\n",
        "    \n",
        "    all.append(pd.DataFrame(x, columns=cols))\n",
        "    \n",
        "  return pd.concat(all, axis=1)\n",
        "\n",
        "def process_one_record(record, history):\n",
        "  (member, restaurant, weather) = record\n",
        "  \n",
        "  member_features = generate_member_features(member)\n",
        "  \n",
        "  restauratn_features = generate_restaurant_features(history)\n",
        "  \n",
        "  others = pd.DataFrame(\n",
        "      [[weather, len(member), rest_to_index(restaurant)]], \n",
        "      columns=['weather', 'count', 'answer']\n",
        "  )\n",
        "\n",
        "  return pd.concat([member_features, restauratn_features, others], axis=1)\n",
        "\n",
        "def load_data(data):\n",
        "  features = process_one_record(data[0], g_history)\n",
        "  \n",
        "  for record in data[1:]:\n",
        "    f = process_one_record(record, g_history)\n",
        "    features = features.append(f)\n",
        "    g_history.popleft()\n",
        "    g_history.append(record[1])\n",
        "    \n",
        "  \n",
        "  weather_features = pd.get_dummies(features['weather'])\n",
        "  features = features.drop('weather', axis=1)\n",
        "  \n",
        "  count_features = pd.get_dummies(features['count'])\n",
        "  features = features.drop('count', axis=1)\n",
        "  \n",
        "  features = pd.concat([features, weather_features, count_features], axis=1)\n",
        "\n",
        "  \n",
        "  return features\n",
        "\n",
        "initialize(g_training_data)\n",
        "g_history = deque([0,0,0,0,0,0])\n",
        "g_training = load_data(g_training_data)\n",
        "g_testing = load_data(g_testing_data)\n"
      ],
      "execution_count": 13,
      "outputs": [
        {
          "output_type": "stream",
          "text": [
            "/usr/local/lib/python3.6/dist-packages/numpy/lib/arraysetops.py:466: FutureWarning: elementwise comparison failed; returning scalar instead, but in the future will perform elementwise comparison\n",
            "  mask |= (ar1 == a)\n"
          ],
          "name": "stderr"
        }
      ]
    },
    {
      "metadata": {
        "id": "8agztUl6Y_An",
        "colab_type": "text"
      },
      "cell_type": "markdown",
      "source": [
        "# Training\n"
      ]
    },
    {
      "metadata": {
        "id": "g05cHeamEOG4",
        "colab_type": "code",
        "colab": {
          "autoexec": {
            "startup": false,
            "wait_interval": 0
          },
          "output_extras": [
            {
              "item_id": 1
            },
            {
              "item_id": 2
            }
          ],
          "base_uri": "https://localhost:8080/",
          "height": 153
        },
        "outputId": "53724cda-8a3b-4ea2-9c69-61c6b6358621",
        "executionInfo": {
          "status": "ok",
          "timestamp": 1520097345781,
          "user_tz": -480,
          "elapsed": 637,
          "user": {
            "displayName": "廖啟邑",
            "photoUrl": "//lh5.googleusercontent.com/-KFVsx7OFkhg/AAAAAAAAAAI/AAAAAAAAKMg/FNj3Mu2QghA/s50-c-k-no/photo.jpg",
            "userId": "113294509540096619859"
          }
        }
      },
      "cell_type": "code",
      "source": [
        "\n",
        "from sklearn.linear_model import LogisticRegression\n",
        "from sklearn.metrics import f1_score\n",
        "from sklearn.metrics import precision_score\n",
        "from sklearn.metrics import recall_score\n",
        "from sklearn.metrics import confusion_matrix\n",
        "\n",
        "g_model = None\n",
        "\n",
        "def train():\n",
        "  y = g_training['answer'].values\n",
        "  X = g_training.drop('answer', 1)\n",
        "\n",
        "  model = LogisticRegression()\n",
        "  model = model.fit(X, y)\n",
        "\n",
        "  ty = g_testing['answer'].values\n",
        "  tX = g_testing.drop('answer', 1)\n",
        "\n",
        "  p = model.predict(tX)\n",
        "\n",
        "  acc = model.score(tX, ty)\n",
        "  f1 = f1_score(ty, p, average='weighted')\n",
        "  prec = precision_score(ty, p, average='weighted')\n",
        "  recall = recall_score(ty, p, average='weighted')\n",
        "  confm = confusion_matrix(ty, p)\n",
        "\n",
        "  global g_model\n",
        "  g_model = model\n",
        "  \n",
        "  print ('acc:%f\\nf1:%f\\nprec:%f\\nrecall:%f' % (acc, f1, prec, recall))\n",
        "\n",
        "train()\n"
      ],
      "execution_count": 17,
      "outputs": [
        {
          "output_type": "stream",
          "text": [
            "acc:0.625000\n",
            "f1:0.550000\n",
            "prec:0.531250\n",
            "recall:0.625000\n"
          ],
          "name": "stdout"
        },
        {
          "output_type": "stream",
          "text": [
            "/usr/local/lib/python3.6/dist-packages/sklearn/metrics/classification.py:1135: UndefinedMetricWarning: F-score is ill-defined and being set to 0.0 in labels with no predicted samples.\n",
            "  'precision', 'predicted', average, warn_for)\n",
            "/usr/local/lib/python3.6/dist-packages/sklearn/metrics/classification.py:1135: UndefinedMetricWarning: Precision is ill-defined and being set to 0.0 in labels with no predicted samples.\n",
            "  'precision', 'predicted', average, warn_for)\n"
          ],
          "name": "stderr"
        }
      ]
    },
    {
      "metadata": {
        "id": "0dz0u2aERpZb",
        "colab_type": "code",
        "colab": {
          "autoexec": {
            "startup": false,
            "wait_interval": 0
          },
          "output_extras": [
            {
              "item_id": 1
            },
            {
              "item_id": 2
            }
          ],
          "base_uri": "https://localhost:8080/",
          "height": 717
        },
        "outputId": "02bcf74d-ae3b-4b79-9965-76cd3475e724",
        "executionInfo": {
          "status": "ok",
          "timestamp": 1520097356712,
          "user_tz": -480,
          "elapsed": 662,
          "user": {
            "displayName": "廖啟邑",
            "photoUrl": "//lh5.googleusercontent.com/-KFVsx7OFkhg/AAAAAAAAAAI/AAAAAAAAKMg/FNj3Mu2QghA/s50-c-k-no/photo.jpg",
            "userId": "113294509540096619859"
          }
        }
      },
      "cell_type": "code",
      "source": [
        "\n",
        "def predict(records, history):\n",
        "  ys = []\n",
        "  fs = None\n",
        "  for record in records:\n",
        "    feature = process_one_record(record, history)\n",
        "    ys.append(feature['answer'])\n",
        "    feature = feature.drop('answer', 1)\n",
        "    if fs is None:\n",
        "      fs = feature\n",
        "    else:\n",
        "      fs = fs.append(feature)\n",
        "\n",
        "  weather_features = pd.get_dummies(fs['weather'])\n",
        "  fs = fs.drop('weather', axis=1)\n",
        "  \n",
        "  count_features = pd.get_dummies(fs['count'])\n",
        "  fs = fs.drop('count', axis=1)\n",
        "  \n",
        "  fs = pd.concat([fs, weather_features, count_features], axis=1)\n",
        "  \n",
        "  ps = g_model.predict(fs)\n",
        "  \n",
        "  return (ys, ps)\n",
        "  \n",
        "def test(data):\n",
        "  history = [r[1] for r in data[-6:]]\n",
        "  (ys, ps) = predict(data, history)\n",
        "  for (y, p, d) in zip(ys, ps, data):\n",
        "    print ('%d %2d : %2d   (%s : %s) - %s' % (y == p, y, p, index_to_rest(y), index_to_rest(p), str(d)))\n",
        "\n",
        "test(g_testing_data)\n",
        "#test(g_training_data)"
      ],
      "execution_count": 18,
      "outputs": [
        {
          "output_type": "stream",
          "text": [
            "0  4 :  2   (['Pizza'] : Holy Coffee) - [['Jack', 'Alin', 'Tony', 'Sophie'], 'Pizza', 1]\n",
            "1  3 :  3   (['Li Chinese Food'] : Li Chinese Food) - [['Kelly', 'Tom'], 'Li Chinese Food', 4]\n",
            "1  3 :  3   (['Li Chinese Food'] : Li Chinese Food) - [['Kelly', 'Jack', 'Tom'], 'Li Chinese Food', 1]\n",
            "0  4 :  2   (['Pizza'] : Holy Coffee) - [['Jack', 'Alin', 'Tom', 'Sophie'], 'Pizza', 2]\n",
            "1  0 :  0   (['Beef noodle'] : Beef noodle) - [['Kelly', 'Mark', 'Alin', 'Tom', 'Tony', 'Jack'], 'Beef noodle', 1]\n",
            "1  0 :  0   (['Beef noodle'] : Beef noodle) - [['Kelly', 'Mark', 'Alin', 'Tom', 'Tony', 'Jack', 'Jason'], 'Beef noodle', 1]\n",
            "1  2 :  2   (['Holy Coffee'] : Holy Coffee) - [['Kelly', 'Alin', 'Tom', 'Tony', 'Jason'], 'Holy Coffee', 3]\n",
            "0  1 :  2   (['Haka Restaurant'] : Holy Coffee) - [['Mark', 'Alin', 'Tom', 'Tony'], 'Haka Restaurant', 1]\n"
          ],
          "name": "stdout"
        },
        {
          "output_type": "stream",
          "text": [
            "/usr/local/lib/python3.6/dist-packages/sklearn/preprocessing/label.py:151: DeprecationWarning: The truth value of an empty array is ambiguous. Returning False, but in future this will result in an error. Use `array.size > 0` to check that an array is not empty.\n",
            "  if diff:\n",
            "/usr/local/lib/python3.6/dist-packages/sklearn/preprocessing/label.py:151: DeprecationWarning: The truth value of an empty array is ambiguous. Returning False, but in future this will result in an error. Use `array.size > 0` to check that an array is not empty.\n",
            "  if diff:\n",
            "/usr/local/lib/python3.6/dist-packages/sklearn/preprocessing/label.py:151: DeprecationWarning: The truth value of an empty array is ambiguous. Returning False, but in future this will result in an error. Use `array.size > 0` to check that an array is not empty.\n",
            "  if diff:\n",
            "/usr/local/lib/python3.6/dist-packages/sklearn/preprocessing/label.py:151: DeprecationWarning: The truth value of an empty array is ambiguous. Returning False, but in future this will result in an error. Use `array.size > 0` to check that an array is not empty.\n",
            "  if diff:\n",
            "/usr/local/lib/python3.6/dist-packages/sklearn/preprocessing/label.py:151: DeprecationWarning: The truth value of an empty array is ambiguous. Returning False, but in future this will result in an error. Use `array.size > 0` to check that an array is not empty.\n",
            "  if diff:\n",
            "/usr/local/lib/python3.6/dist-packages/sklearn/preprocessing/label.py:151: DeprecationWarning: The truth value of an empty array is ambiguous. Returning False, but in future this will result in an error. Use `array.size > 0` to check that an array is not empty.\n",
            "  if diff:\n",
            "/usr/local/lib/python3.6/dist-packages/sklearn/preprocessing/label.py:151: DeprecationWarning: The truth value of an empty array is ambiguous. Returning False, but in future this will result in an error. Use `array.size > 0` to check that an array is not empty.\n",
            "  if diff:\n",
            "/usr/local/lib/python3.6/dist-packages/sklearn/preprocessing/label.py:151: DeprecationWarning: The truth value of an empty array is ambiguous. Returning False, but in future this will result in an error. Use `array.size > 0` to check that an array is not empty.\n",
            "  if diff:\n",
            "/usr/local/lib/python3.6/dist-packages/sklearn/preprocessing/label.py:151: DeprecationWarning: The truth value of an empty array is ambiguous. Returning False, but in future this will result in an error. Use `array.size > 0` to check that an array is not empty.\n",
            "  if diff:\n",
            "/usr/local/lib/python3.6/dist-packages/sklearn/preprocessing/label.py:151: DeprecationWarning: The truth value of an empty array is ambiguous. Returning False, but in future this will result in an error. Use `array.size > 0` to check that an array is not empty.\n",
            "  if diff:\n",
            "/usr/local/lib/python3.6/dist-packages/sklearn/preprocessing/label.py:151: DeprecationWarning: The truth value of an empty array is ambiguous. Returning False, but in future this will result in an error. Use `array.size > 0` to check that an array is not empty.\n",
            "  if diff:\n",
            "/usr/local/lib/python3.6/dist-packages/sklearn/preprocessing/label.py:151: DeprecationWarning: The truth value of an empty array is ambiguous. Returning False, but in future this will result in an error. Use `array.size > 0` to check that an array is not empty.\n",
            "  if diff:\n",
            "/usr/local/lib/python3.6/dist-packages/sklearn/preprocessing/label.py:151: DeprecationWarning: The truth value of an empty array is ambiguous. Returning False, but in future this will result in an error. Use `array.size > 0` to check that an array is not empty.\n",
            "  if diff:\n",
            "/usr/local/lib/python3.6/dist-packages/sklearn/preprocessing/label.py:151: DeprecationWarning: The truth value of an empty array is ambiguous. Returning False, but in future this will result in an error. Use `array.size > 0` to check that an array is not empty.\n",
            "  if diff:\n",
            "/usr/local/lib/python3.6/dist-packages/sklearn/preprocessing/label.py:151: DeprecationWarning: The truth value of an empty array is ambiguous. Returning False, but in future this will result in an error. Use `array.size > 0` to check that an array is not empty.\n",
            "  if diff:\n",
            "/usr/local/lib/python3.6/dist-packages/sklearn/preprocessing/label.py:151: DeprecationWarning: The truth value of an empty array is ambiguous. Returning False, but in future this will result in an error. Use `array.size > 0` to check that an array is not empty.\n",
            "  if diff:\n"
          ],
          "name": "stderr"
        }
      ]
    },
    {
      "metadata": {
        "id": "LYB_vdlxemTl",
        "colab_type": "code",
        "colab": {
          "autoexec": {
            "startup": false,
            "wait_interval": 0
          }
        }
      },
      "cell_type": "code",
      "source": [
        ""
      ],
      "execution_count": 0,
      "outputs": []
    }
  ]
}